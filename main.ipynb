{
 "cells": [
  {
   "cell_type": "code",
   "execution_count": null,
   "metadata": {},
   "outputs": [],
   "source": [
    "from flask import Flask, render_template, request, redirect, url_for\n",
    "from flask_sqlalchemy import SQLAlchemy"
   ]
  },
  {
   "attachments": {},
   "cell_type": "markdown",
   "metadata": {},
   "source": [
    "##### 加入到自己的Database\n",
    "###### app是flask\n",
    "###### sqlite:///words.db是創建自己的database"
   ]
  },
  {
   "cell_type": "code",
   "execution_count": null,
   "metadata": {},
   "outputs": [],
   "source": [
    "app = Flask(__name__)\n",
    "app.config['SQLALCHEMY_DATABASE_URI'] = 'sqlite:///words.db'\n",
    "#Optional: But it will silence the deprecation warning in the console.\n",
    "app.config['SQLALCHEMY_TRACK_MODIFICATIONS'] = False\n",
    "db = SQLAlchemy(app)\n",
    "\n",
    "class Word(db.Model):\n",
    "    id = db.Column(db.Integer, primary_key=True)\n",
    "    english = db.Column(db.String(50), unique=True, nullable=False)\n",
    "    chinese = db.Column(db.String(50), nullable=False)\n",
    "    date_added = db.Column(db.DateTime, nullable=False)\n",
    "    \n",
    "    #顯示目前要記錄的字\n",
    "    def __repr__(self):\n",
    "        return f'<Word {self.english}>'\n",
    "\n",
    "with app.app_context():\n",
    "    db.create_all()"
   ]
  },
  {
   "attachments": {},
   "cell_type": "markdown",
   "metadata": {},
   "source": [
    "<ul>\n",
    "    <li>String括弧後面表示能接受的字串量</li>\n",
    "    <li>nuique 表示不重複</li>\n",
    "    <li>nullable 表示不能夠空白</li>\n",
    "</ul>"
   ]
  },
  {
   "cell_type": "code",
   "execution_count": null,
   "metadata": {},
   "outputs": [],
   "source": [
    "@app.route('/', methods=['GET','POST'])\n",
    "def index():\n",
    "    if request.method == 'POST':\n",
    "        english = request.form['english']\n",
    "        chinese = request.form['chinese']\n",
    "        date_added = request.form['date_added']\n",
    "        word = Word(english=english,chinese=chinese,date_added=date_added)\n",
    "        db.session.add(word)\n",
    "        db.session.commit()\n",
    "        return redirect(url_for('index'))\n",
    "    else:\n",
    "        words = Word.query.all()\n",
    "        return render_template('index.html',words =words)\n",
    "    "
   ]
  },
  {
   "attachments": {},
   "cell_type": "markdown",
   "metadata": {},
   "source": [
    "#### 之前遇到之問題\n",
    "<ol>\n",
    "    <li>with app.app_context():\n",
    "    db.create_all()</li>\n",
    "    <li>再所有db指令前加上with app.app_context():</li>\n",
    "</ol>"
   ]
  },
  {
   "cell_type": "code",
   "execution_count": null,
   "metadata": {},
   "outputs": [],
   "source": [
    "@app.route('/search', methods=['GET', 'POST'])\n",
    "def search():\n",
    "    if request.method == 'POST':\n",
    "        search_term = request.form['search_term']\n",
    "        words = Word.query.filter(Word.english.like(f'%{search_term}%') | Word.chinese.like(f'%{search_term}%') | Word.date_added.like(f'%{search_term}%')).all()\n",
    "        return render_template('search.html', words=words, search_term=search_term)\n",
    "    else:\n",
    "        return render_template('search.html')\n",
    "\n",
    "if __name__ == '__main__':\n",
    "    app.run(debug=True)"
   ]
  },
  {
   "cell_type": "code",
   "execution_count": 25,
   "metadata": {},
   "outputs": [
    {
     "name": "stdout",
     "output_type": "stream",
     "text": [
      "2023/2/28\n"
     ]
    }
   ],
   "source": [
    "import datetime\n",
    "a = datetime.datetime.now()\n",
    "print(f'{a.year}/{a.month}/{a.day}')"
   ]
  },
  {
   "cell_type": "code",
   "execution_count": null,
   "metadata": {},
   "outputs": [],
   "source": []
  }
 ],
 "metadata": {
  "kernelspec": {
   "display_name": "Python 3",
   "language": "python",
   "name": "python3"
  },
  "language_info": {
   "codemirror_mode": {
    "name": "ipython",
    "version": 3
   },
   "file_extension": ".py",
   "mimetype": "text/x-python",
   "name": "python",
   "nbconvert_exporter": "python",
   "pygments_lexer": "ipython3",
   "version": "3.10.3"
  },
  "orig_nbformat": 4,
  "vscode": {
   "interpreter": {
    "hash": "b4ea76c1531d03d42fa684ef75e88bec03153d3e383e7fec7c7cfb2b3fcabf35"
   }
  }
 },
 "nbformat": 4,
 "nbformat_minor": 2
}
